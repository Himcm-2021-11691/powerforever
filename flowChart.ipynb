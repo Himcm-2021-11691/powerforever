{
 "cells": [
  {
   "cell_type": "code",
   "execution_count": 12,
   "id": "secret-declaration",
   "metadata": {},
   "outputs": [],
   "source": [
    "base = \"/Users/lishuyu/Downloads/flowchart/\"\n",
    "with open(f\"{base}battery.py\", \"r\") as f:\n",
    "    file = f.read()"
   ]
  },
  {
   "cell_type": "code",
   "execution_count": 13,
   "id": "deadly-belfast",
   "metadata": {},
   "outputs": [
    {
     "data": {
      "text/plain": [
       "'import time, sys, threading\\n\\n\\nclass battery():\\n    def __init__(self, max_recharge_rate, max_capactity, efficiency, log=False):\\n        \"\"\"\\n        battery config and recharge rate\\n        :param max_recharge_rate: float max recharge rate in w\\n        :param max_capactity: float unit in kw*h/1000, max capactity\\n        \"\"\"\\n        self.max_recharge_rate = max_recharge_rate\\n        self.max_capactity = max_capactity\\n        self.efficiency = efficiency\\n        self.capacity = max_capactity\\n        self.log = All_battery_log\\n        self.logstatus = log\\n        self.log_main = True\\n        self.write_to_log = False\\n        if log: print(\\n            f\"Battery set complied: max_capactity = {self.capacity}\\\\nmax_recharge_rate:{self.max_recharge_rate}\")\\n        self.log.write(f\"Battery set complied: max_capactity = {self.capacity}, max_recharge_rate:{self.max_recharge_rate}, efficiency:{efficiency}\")\\n\\n    def discharge(self, discharge_target, log=False):\\n        # discharge_target_real: 真实的电池放电，但是target减少self.efficiency倍\\n        # discharge_target: 用电器计划从电池要走的电量\\n        if self.logstatus: log = True\\n        if self.log_main: self.log.write(f\"Discharge {discharge_target}， current cap : {self.capacity}\")\\n        discharge_target_real = discharge_target / self.efficiency\\n        if discharge_target_real <= self.max_recharge_rate:\\n            if discharge_target_real <= self.capacity:\\n                self.capacity -= discharge_target_real\\n                return 0\\n            else:\\n                self.capacity = 0\\n                if self.write_to_log :self.log.write(f\"self.max_recharge_rate < discharge_target_real <= self.capacity: \\\\t remain: {discharge_target - (discharge_target_real - self.capacity) * self.efficiency}\",verbose=log)\\n                return discharge_target - self.capacity * self.efficiency\\n\\n        else:\\n            if self.max_recharge_rate <= self.capacity:\\n                self.capacity -= self.max_recharge_rate\\n                if self.write_to_log :self.log.write(f\"discharge_target_real <= self.max_recharge_rate <= self.capacity: \\\\t remain: {discharge_target - self.max_recharge_rate * self.efficiency}\",verbose=log)\\n                return discharge_target - self.max_recharge_rate * self.efficiency\\n            else:\\n                # capacity_current = self.capacity\\n                self.capacity = 0\\n                if self.write_to_log :self.log.write(f\"disorder all cap\\\\t remain:{discharge_target - self.capacity * self.efficiency}\",verbose=log)\\n                return discharge_target - self.capacity * self.efficiency\\n\\n    def charge(self, charge_target, log=False):\\n        if self.log_main: self.log.write(f\"Charge {charge_target}， current cap : {self.capacity}\")\\n        charge_target_real = charge_target * self.efficiency\\n        if self.logstatus: log = True\\n        if charge_target_real >= self.max_recharge_rate:\\n            if self.max_recharge_rate + self.capacity <= self.max_capactity:\\n                self.capacity += self.max_recharge_rate\\n                if self.write_to_log: self.log.write(f\"max_rate < target & batter could not full \\\\t remain:{charge_target - self.max_recharge_rate / self.efficiency}\",verbose=log)\\n                return charge_target - self.max_recharge_rate / self.efficiency\\n            else:\\n                capacity_current = self.capacity\\n                self.capacity = self.max_capactity\\n                if self.write_to_log: self.log.write(f\"max_rate < target & batter could full\\\\t remain:{charge_target - (self.max_capactity - capacity_current) / self.efficiency}\",verbose=log)\\n                return charge_target - (self.max_capactity - capacity_current) / self.efficiency\\n        else:\\n            if charge_target_real + self.capacity <= self.max_capactity:\\n                self.capacity += charge_target_real\\n                if self.write_to_log: self.log.write(f\"max_rate > target & could not full\\\\t remain:{0}\")\\n                return 0\\n            else:\\n                current_capactity = self.capacity\\n                self.capacity = self.max_capactity\\n                if self.write_to_log: self.log.write(f\"max_rate > target & could full\\\\t remain:{charge_target - (self.max_capactity - current_capactity) / self.efficiency}\",verbose=log)\\n                return charge_target - (self.max_capactity - current_capactity) / self.efficiency\\n\\n\\nclass logger():\\n    def __init__(self, name = sys.argv[0], array_limit = 10000):\\n        self.logaddr = f\"{name}.log\"\\n        self.verbose = True\\n        self.array = []\\n        self.array_limit = array_limit\\n        with open(self.logaddr, \"w\") as f: f.write(\\n            str(time.strftime(\"%H:%M:%S\", time.localtime())) + str(\"\\\\tLogger init\\\\n\"))\\n\\n    def write(self, content=None, verbose=False):\\n        if verbose: print(content)\\n        self.array.append(content)\\n        if len(self.array) > self.array_limit:\\n            if verbose: print(f\"update log at {self.logaddr}\")\\n            t = threading.Thread(target=self.append_log)\\n            t.start()\\n\\n    def append_log(self):\\n        array_copy = self.array.copy()\\n        self.array = []\\n        with open(self.logaddr, \"a+\") as f:\\n            for content in array_copy:\\n                f.write(str(str(time.strftime(\"%H:%M:%S\", time.localtime())) + \"\\\\t[info]\" + \"\\\\t\" + content + \"\\\\n\\\\n\"))\\n\\n    def write_error(self, error, content=None, verbose=False):\\n        if verbose: print(error, content)\\n        with open(self.logaddr, \"a+\") as f:\\n            f.write(str(str(time.strftime(\"%H:%M:%S\", time.localtime())) + \"\\\\t[error]\" + str(error) + \"\\\\t\" + str(\\n                content) + \"\\\\n\\\\n\"))\\n\\nAll_battery_log = logger(\"battery\", 100000)\\n\\nif __name__ == \\'__main__\\':\\n    libattery = battery(700, 10000, 0.96)\\n    libattery.capacity = 200\\n    for i in range(100):\\n        libattery.charge(1000)\\n        libattery.discharge(1000)\\n'"
      ]
     },
     "execution_count": 13,
     "metadata": {},
     "output_type": "execute_result"
    }
   ],
   "source": [
    "file"
   ]
  },
  {
   "cell_type": "code",
   "execution_count": 15,
   "id": "accessible-boundary",
   "metadata": {},
   "outputs": [],
   "source": [
    "import pyflowchart as fc"
   ]
  },
  {
   "cell_type": "code",
   "execution_count": 31,
   "id": "trying-white",
   "metadata": {},
   "outputs": [
    {
     "name": "stdout",
     "output_type": "stream",
     "text": [
      "op386=>operation: import time, sys, threading\n",
      "op388=>operation: class battery():\n",
      "\n",
      "    def __init__(self, max_recharge_rate, max_capactity, efficiency, log=False):\n",
      "        '\\n        battery config and recharge rate\\n        :param max_recharge_rate: float max recharge rate in w\\n        :param max_capactity: float unit in kw*h/1000, max capactity\\n        '\n",
      "        self.max_recharge_rate = max_recharge_rate\n",
      "        self.max_capactity = max_capactity\n",
      "        self.efficiency = efficiency\n",
      "        self.capacity = max_capactity\n",
      "        self.log = All_battery_log\n",
      "        self.logstatus = log\n",
      "        self.log_main = True\n",
      "        self.write_to_log = False\n",
      "        if log:\n",
      "            print(f'''Battery set complied: max_capactity = {self.capacity}\n",
      "max_recharge_rate:{self.max_recharge_rate}''')\n",
      "        self.log.write(f'Battery set complied: max_capactity = {self.capacity}, max_recharge_rate:{self.max_recharge_rate}, efficiency:{efficiency}')\n",
      "\n",
      "    def discharge(self, discharge_target, log=False):\n",
      "        if self.logstatus:\n",
      "            log = True\n",
      "        if self.log_main:\n",
      "            self.log.write(f'Discharge {discharge_target}， current cap : {self.capacity}')\n",
      "        discharge_target_real = (discharge_target / self.efficiency)\n",
      "        if (discharge_target_real <= self.max_recharge_rate):\n",
      "            if (discharge_target_real <= self.capacity):\n",
      "                self.capacity -= discharge_target_real\n",
      "                return 0\n",
      "            else:\n",
      "                self.capacity = 0\n",
      "                if self.write_to_log:\n",
      "                    self.log.write(f'self.max_recharge_rate < discharge_target_real <= self.capacity: \t remain: {(discharge_target - ((discharge_target_real - self.capacity) * self.efficiency))}', verbose=log)\n",
      "                return (discharge_target - (self.capacity * self.efficiency))\n",
      "        elif (self.max_recharge_rate <= self.capacity):\n",
      "            self.capacity -= self.max_recharge_rate\n",
      "            if self.write_to_log:\n",
      "                self.log.write(f'discharge_target_real <= self.max_recharge_rate <= self.capacity: \t remain: {(discharge_target - (self.max_recharge_rate * self.efficiency))}', verbose=log)\n",
      "            return (discharge_target - (self.max_recharge_rate * self.efficiency))\n",
      "        else:\n",
      "            self.capacity = 0\n",
      "            if self.write_to_log:\n",
      "                self.log.write(f'disorder all cap\t remain:{(discharge_target - (self.capacity * self.efficiency))}', verbose=log)\n",
      "            return (discharge_target - (self.capacity * self.efficiency))\n",
      "\n",
      "    def charge(self, charge_target, log=False):\n",
      "        if self.log_main:\n",
      "            self.log.write(f'Charge {charge_target}， current cap : {self.capacity}')\n",
      "        charge_target_real = (charge_target * self.efficiency)\n",
      "        if self.logstatus:\n",
      "            log = True\n",
      "        if (charge_target_real >= self.max_recharge_rate):\n",
      "            if ((self.max_recharge_rate + self.capacity) <= self.max_capactity):\n",
      "                self.capacity += self.max_recharge_rate\n",
      "                if self.write_to_log:\n",
      "                    self.log.write(f'max_rate < target & batter could not full \t remain:{(charge_target - (self.max_recharge_rate / self.efficiency))}', verbose=log)\n",
      "                return (charge_target - (self.max_recharge_rate / self.efficiency))\n",
      "            else:\n",
      "                capacity_current = self.capacity\n",
      "                self.capacity = self.max_capactity\n",
      "                if self.write_to_log:\n",
      "                    self.log.write(f'max_rate < target & batter could full\t remain:{(charge_target - ((self.max_capactity - capacity_current) / self.efficiency))}', verbose=log)\n",
      "                return (charge_target - ((self.max_capactity - capacity_current) / self.efficiency))\n",
      "        elif ((charge_target_real + self.capacity) <= self.max_capactity):\n",
      "            self.capacity += charge_target_real\n",
      "            if self.write_to_log:\n",
      "                self.log.write(f'max_rate > target & could not full\t remain:{0}')\n",
      "            return 0\n",
      "        else:\n",
      "            current_capactity = self.capacity\n",
      "            self.capacity = self.max_capactity\n",
      "            if self.write_to_log:\n",
      "                self.log.write(f'max_rate > target & could full\t remain:{(charge_target - ((self.max_capactity - current_capactity) / self.efficiency))}', verbose=log)\n",
      "            return (charge_target - ((self.max_capactity - current_capactity) / self.efficiency))\n",
      "op390=>operation: class logger():\n",
      "\n",
      "    def __init__(self, name=sys.argv[0], array_limit=10000):\n",
      "        self.logaddr = f'{name}.log'\n",
      "        self.verbose = True\n",
      "        self.array = []\n",
      "        self.array_limit = array_limit\n",
      "        with open(self.logaddr, 'w') as f:\n",
      "            f.write((str(time.strftime('%H:%M:%S', time.localtime())) + str('\\tLogger init\\n')))\n",
      "\n",
      "    def write(self, content=None, verbose=False):\n",
      "        if verbose:\n",
      "            print(content)\n",
      "        self.array.append(content)\n",
      "        if (len(self.array) > self.array_limit):\n",
      "            if verbose:\n",
      "                print(f'update log at {self.logaddr}')\n",
      "            t = threading.Thread(target=self.append_log)\n",
      "            t.start()\n",
      "\n",
      "    def append_log(self):\n",
      "        array_copy = self.array.copy()\n",
      "        self.array = []\n",
      "        with open(self.logaddr, 'a+') as f:\n",
      "            for content in array_copy:\n",
      "                f.write(str(((((str(time.strftime('%H:%M:%S', time.localtime())) + '\\t[info]') + '\\t') + content) + '\\n\\n')))\n",
      "\n",
      "    def write_error(self, error, content=None, verbose=False):\n",
      "        if verbose:\n",
      "            print(error, content)\n",
      "        with open(self.logaddr, 'a+') as f:\n",
      "            f.write(str((((((str(time.strftime('%H:%M:%S', time.localtime())) + '\\t[error]') + str(error)) + '\\t') + str(content)) + '\\n\\n')))\n",
      "op392=>operation: All_battery_log = logger('battery', 100000)\n",
      "cond395=>condition: if (__name__ == '__main__')\n",
      "op399=>operation: libattery = battery(700, 10000, 0.96)\n",
      "op401=>operation: libattery.capacity = 200\n",
      "cond404=>condition: for i in range(100)\n",
      "sub413=>subroutine: libattery.charge(1000)\n",
      "sub415=>subroutine: libattery.discharge(1000)\n",
      "\n",
      "op386->op388\n",
      "op388->op390\n",
      "op390->op392\n",
      "op392->cond395\n",
      "cond395(yes)->op399\n",
      "op399->op401\n",
      "op401->cond404\n",
      "cond404(yes)->sub413\n",
      "sub413->sub415\n",
      "sub415(left)->cond404\n",
      "\n"
     ]
    }
   ],
   "source": [
    "print(fc.Flowchart.from_code(file,field='',inner=True).flowchart())"
   ]
  },
  {
   "cell_type": "code",
   "execution_count": null,
   "id": "affected-utilization",
   "metadata": {},
   "outputs": [],
   "source": []
  }
 ],
 "metadata": {
  "kernelspec": {
   "display_name": "Python 3",
   "language": "python",
   "name": "python3"
  },
  "language_info": {
   "codemirror_mode": {
    "name": "ipython",
    "version": 3
   },
   "file_extension": ".py",
   "mimetype": "text/x-python",
   "name": "python",
   "nbconvert_exporter": "python",
   "pygments_lexer": "ipython3",
   "version": "3.7.9"
  }
 },
 "nbformat": 4,
 "nbformat_minor": 5
}
