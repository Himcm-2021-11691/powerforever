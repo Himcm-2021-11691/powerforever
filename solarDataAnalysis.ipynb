{
 "cells": [
  {
   "cell_type": "code",
   "execution_count": null,
   "id": "super-interaction",
   "metadata": {},
   "outputs": [],
   "source": [
    "import numpy as np\n",
    "import matplotlib.pyplot as plt\n",
    "import pandas as pd\n",
    "import scipy.interpolate\n",
    "import random\n",
    "\n",
    "plot = \"plot/\"\n",
    "npy = \"npy/\""
   ]
  },
  {
   "cell_type": "code",
   "execution_count": null,
   "id": "crucial-acrylic",
   "metadata": {},
   "outputs": [],
   "source": [
    "solar_rad = pd.read_csv(\"xunlian.csv\")\n",
    "solar_rad"
   ]
  },
  {
   "cell_type": "code",
   "execution_count": null,
   "id": "excellent-constant",
   "metadata": {
    "pycharm": {
     "name": "#%%\n"
    }
   },
   "outputs": [],
   "source": [
    "solar_rad_array = np.array(solar_rad)\n",
    "solar_rad_value_array = np.array(solar_rad_array[:,2], dtype=int)/max(solar_rad_array[:,2])*20000\n"
   ]
  },
  {
   "cell_type": "code",
   "execution_count": null,
   "id": "involved-matthew",
   "metadata": {
    "pycharm": {
     "name": "#%%\n"
    }
   },
   "outputs": [],
   "source": [
    "max_per_hour = []\n",
    "for value in range(len(solar_rad_value_array)//60):\n",
    "    max_per_hour.append(list(solar_rad_value_array[60*value:60*value+60]))\n",
    "data = np.max(max_per_hour, axis=1)\n",
    "color = np.array(data, dtype=int)\n",
    "plt.scatter(np.arange(len(data)), data, c=np.array(data), s=0.4)\n",
    "plt.title(\"MaxPerHourPlot\")\n",
    "plt.savefig(f\"{plot}MaxPerHourPlot.png\",format='jpg', dpi=2400)\n",
    "plt.show()\n",
    "plt.scatter(np.arange(len(data)), np.sort(data), c=np.sort(np.array(data)), s=0.1)\n",
    "plt.title(f\"{plot}SortedOfMaxPerHourPlot\")\n",
    "plt.savefig(f\"{plot}SortedOfMaxPerHourPlot.png\",format='jpg', dpi=2400)\n",
    "plt.show()"
   ]
  },
  {
   "cell_type": "code",
   "execution_count": null,
   "id": "compact-rebound",
   "metadata": {
    "pycharm": {
     "name": "#%%\n"
    }
   },
   "outputs": [],
   "source": [
    "max_per_day = []\n",
    "for value in range(len(solar_rad_value_array)//(60*24)):\n",
    "    max_per_day.append(list(solar_rad_value_array[(60*24)*value:(60*24)*value+(60*24)]))\n",
    "data = np.max(max_per_day, axis=1)\n",
    "color = np.array(data, dtype=int)\n",
    "plt.scatter(np.arange(len(data)), data, c=np.array(data), s=4)\n",
    "plt.title(\"MaxPerDayPlot\")\n",
    "plt.savefig(f\"{plot}MaxPerDayPlot.png\")\n",
    "plt.show()\n",
    "plt.scatter(np.arange(len(data)), np.sort(data), c=np.sort(np.array(data)), s=2)\n",
    "plt.title(\"SortedOfMaxPerDayPlot\")\n",
    "plt.savefig(f\"{plot}SortedOfMaxPerDayPlot.png\")\n",
    "plt.show()"
   ]
  },
  {
   "cell_type": "code",
   "execution_count": null,
   "id": "exciting-myrtle",
   "metadata": {
    "pycharm": {
     "name": "#%%\n"
    }
   },
   "outputs": [],
   "source": [
    "max_per_mouth = []\n",
    "for value in range(len(solar_rad_value_array)//(60*24*30)):\n",
    "    max_per_mouth.append(list(solar_rad_value_array[(60*24*30)*value:(60*24*30)*value+(60*24*30)]))\n",
    "data = np.max(max_per_mouth, axis=1)\n",
    "color = np.array(data, dtype=int)\n",
    "plt.plot(data)\n",
    "plt.title(\"MaxPermouthPlot\")\n",
    "plt.savefig(f\"{plot}MaxPermouthPlot.png\",format='jpg', dpi=2400)\n",
    "plt.show()\n",
    "plt.plot(np.sort(data))\n",
    "plt.title(\"SortedOfMaxPermouthPlot\")\n",
    "plt.savefig(f\"{plot}SortedOfMaxPermouthPlot.png\",format='jpg', dpi=2400)\n",
    "plt.show()\n",
    "x_new = np.linspace(0, len(data), 300)\n",
    "a_BSpline = scipy.interpolate.make_interp_spline(np.arange(len(data)), data)\n",
    "y_new = a_BSpline(x_new)\n",
    "plt.plot(x_new, y_new)\n",
    "plt.savefig(f\"{plot}SmoothedMaxPermouthPlot.png\",format='jpg', dpi=2400)\n",
    "plt.show()"
   ]
  },
  {
   "cell_type": "code",
   "execution_count": null,
   "id": "prescription-executive",
   "metadata": {
    "pycharm": {
     "name": "#%%\n"
    }
   },
   "outputs": [],
   "source": [
    "color = np.array(solar_rad.values[:,2]/max(solar_rad.values[:,2])*1000, dtype=int)\n",
    "plt.scatter(np.arange(len(solar_rad)), np.sort(np.array(solar_rad.values[:,2]), -1), c=np.sort(color, -1), s=0.1)\n",
    "plt.title(\"Solar radiation ranking table\")\n",
    "plt.savefig(f\"{plot}SolarRadiationRankingTable.png\",format='jpg', dpi=2400)\n",
    "plt.show()"
   ]
  },
  {
   "cell_type": "code",
   "execution_count": null,
   "id": "imposed-powder",
   "metadata": {
    "pycharm": {
     "name": "#%%\n"
    }
   },
   "outputs": [],
   "source": [
    "max_per_halfMouth = []\n",
    "for value in range(len(solar_rad_value_array)//(60*24*10)):\n",
    "    max_per_halfMouth.append(list(solar_rad_value_array[(60*24*10)*value:(60*24*10)*value+(60*24*10)]))\n",
    "data = np.max(np.array(max_per_halfMouth), axis=1)\n",
    "color = np.array(data, dtype=int)\n",
    "plt.plot(data)\n",
    "plt.title(\"MaxPerhalfMouthPlot\")\n",
    "plt.savefig(f\"{plot}MaxPerhalfMouthPlot.png\",format='jpg', dpi=2400)\n",
    "plt.show()\n",
    "plt.plot(np.sort(data))\n",
    "plt.title(\"SortedOfMaxPerhalfMouthPlot\")\n",
    "plt.savefig(f\"{plot}SortedOfMaxPerhalfMouthPlot.png\",format='jpg', dpi=2400)\n",
    "plt.show()\n",
    "x_new = np.linspace(0, len(data), 300)\n",
    "a_BSpline = scipy.interpolate.make_interp_spline(np.arange(len(data)), data)\n",
    "y_new = a_BSpline(x_new)\n",
    "plt.plot(x_new, y_new)\n",
    "plt.savefig(f\"{plot}SmoothedMaxPerhalfMouthPlot.png\",format='jpg', dpi=2400)\n",
    "plt.show()"
   ]
  },
  {
   "cell_type": "code",
   "execution_count": null,
   "id": "professional-quarter",
   "metadata": {
    "pycharm": {
     "name": "#%%\n"
    }
   },
   "outputs": [],
   "source": [
    "\"\"\"import PyEMD\n",
    "import uuid\n",
    "emd_obj = PyEMD.EMD()\n",
    "imfs = emd_obj.emd(np.array(solar_rad_value_array), max_imf=5)\n",
    "np.save(f\"{npy}imfs{uuid.uuid4()}.png\", imfs)\n",
    "count = 0\n",
    "for imf in imfs:\n",
    "    count+=1\n",
    "    plt.plot(imf)\n",
    "    plt.title(f\"emd-{count}\")\n",
    "    plt.savefig(f\"{plot}imfs_auto_{count}.png\")\n",
    "    plt.show()\n",
    "\"\"\""
   ]
  },
  {
   "cell_type": "code",
   "execution_count": null,
   "id": "dated-major",
   "metadata": {
    "pycharm": {
     "name": "#%%\n"
    }
   },
   "outputs": [],
   "source": [
    "sum_per_Mouth = []\n",
    "for value in range(len(solar_rad_value_array)//(60*24*10)):\n",
    "    sum_per_Mouth.append(list(solar_rad_value_array[(60*24*10)*value:(60*24*10)*value+(60*24*10)]))\n",
    "data = np.sum(np.array(sum_per_Mouth), axis=1)\n",
    "color = np.array(data, dtype=int)\n",
    "plt.plot(data)\n",
    "plt.title(\"SumPer10daysPlot\")\n",
    "plt.savefig(f\"{plot}SumPer10daysPlot.png\",format='png', dpi=6000)\n",
    "plt.show()\n",
    "plt.plot(np.sort(data))\n",
    "plt.title(\"SortedOfSumPer10daysPlot\")\n",
    "plt.savefig(f\"{plot}SortedOfSumPer10daysPlot.png\",format='png', dpi=6000)\n",
    "plt.show()\n",
    "x_new = np.linspace(0, len(data), 300)\n",
    "a_BSpline = scipy.interpolate.make_interp_spline(np.arange(len(data)), data)\n",
    "y_new = a_BSpline(x_new)\n",
    "plt.plot(x_new, y_new)\n",
    "plt.savefig(f\"{plot}SmoothedSumPer10daysPlot.png\",format='png', dpi=6000)\n",
    "plt.show()"
   ]
  },
  {
   "cell_type": "code",
   "execution_count": null,
   "id": "disciplinary-there",
   "metadata": {},
   "outputs": [],
   "source": [
    "sum_per_mouth = []\n",
    "for value in range(len(solar_rad_value_array)//(60*24*30)):\n",
    "    sum_per_mouth.append(list(solar_rad_value_array[(60*24*30)*value:(60*24*30)*value+(60*24*30)]))\n",
    "data = np.sum(sum_per_mouth, axis=1)\n",
    "color = np.array(data, dtype=int)\n",
    "plt.plot(data)\n",
    "plt.title(\"sumPermouthPlot\")\n",
    "plt.savefig(f\"{plot}sumPermouthPlot.jpg\",format='jpg', dpi=2400)\n",
    "plt.show()\n",
    "plt.plot(np.sort(data))\n",
    "plt.title(\"SortedOfsumPermouthPlot\")\n",
    "plt.savefig(f\"{plot}SortedOfsumPermouthPlot.jpg\",format='jpg', dpi=2400)\n",
    "plt.show()\n",
    "x_new = np.linspace(0, len(data), 300)\n",
    "a_BSpline = scipy.interpolate.make_interp_spline(np.arange(len(data)), data)\n",
    "y_new = a_BSpline(x_new)\n",
    "plt.plot(x_new, y_new)\n",
    "plt.title(\"SmoothedsumPermouthPlot\")\n",
    "plt.savefig(f\"{plot}SmoothedsumPermouthPlot.jpg\",format='jpg', dpi=2400)\n",
    "plt.show()"
   ]
  },
  {
   "cell_type": "code",
   "execution_count": null,
   "id": "reserved-seven",
   "metadata": {},
   "outputs": [],
   "source": [
    "sum_per_day = []\n",
    "for value in range(len(solar_rad_value_array)//(60)):\n",
    "    sum_per_day.append(list(solar_rad_value_array[(60)*value:(60)*value+(60)]))\n",
    "data = np.sum(sum_per_day, axis=1)\n",
    "solar_rad_value_array = data/max(data)*20000"
   ]
  },
  {
   "cell_type": "code",
   "execution_count": null,
   "id": "beginning-advantage",
   "metadata": {},
   "outputs": [],
   "source": [
    "choice = random.randint(0, len(data)//24)*24\n",
    "data = data/max(data)*20000\n",
    "day_data = data[choice:choice+24]\n",
    "\n",
    "plt.plot(day_data)\n",
    "plt.title(\"sumOnedayPlot\")\n",
    "plt.savefig(f\"{plot}sumOnedayPlot.jpg\",format='jpg', dpi=2400)\n",
    "plt.show()\n",
    "plt.plot(np.sort(day_data))\n",
    "plt.title(\"SortedOfsumOnedayPlot\")\n",
    "plt.savefig(f\"{plot}SortedOfsumOnedayPlot.jpg\",format='jpg', dpi=2400)\n",
    "plt.show()\n",
    "x_new = np.linspace(0, len(day_data), 300)\n",
    "a_BSpline = scipy.interpolate.make_interp_spline(np.arange(len(data)), data)\n",
    "y_new = a_BSpline(x_new)\n",
    "plt.plot(x_new, y_new)\n",
    "plt.title(\"SmoothedsumOnedayPlot\")\n",
    "plt.savefig(f\"{plot}SmoothedsumOnedayPlot.jpg\",format='jpg', dpi=2400)\n",
    "plt.show()"
   ]
  },
  {
   "cell_type": "code",
   "execution_count": null,
   "id": "baking-craps",
   "metadata": {},
   "outputs": [],
   "source": []
  }
 ],
 "metadata": {
  "kernelspec": {
   "display_name": "Python 3",
   "language": "python",
   "name": "python3"
  },
  "language_info": {
   "codemirror_mode": {
    "name": "ipython",
    "version": 3
   },
   "file_extension": ".py",
   "mimetype": "text/x-python",
   "name": "python",
   "nbconvert_exporter": "python",
   "pygments_lexer": "ipython3",
   "version": "3.7.9"
  }
 },
 "nbformat": 4,
 "nbformat_minor": 5
}
